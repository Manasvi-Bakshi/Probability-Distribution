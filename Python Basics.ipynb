{
 "cells": [
  {
   "cell_type": "markdown",
   "id": "bd33f6be",
   "metadata": {},
   "source": [
    "# Lab Experiment 1"
   ]
  },
  {
   "cell_type": "markdown",
   "id": "b1c46220",
   "metadata": {},
   "source": [
    "### Python Basics"
   ]
  },
  {
   "cell_type": "code",
   "execution_count": 1,
   "id": "875e9b17",
   "metadata": {},
   "outputs": [],
   "source": [
    "# Defining variables\n",
    "x = 28          # An integer\n",
    "y = 14          # An integer\n",
    "z = 9.7532      # A float\n",
    "t = \"Manasvi\"   # A string\n"
   ]
  },
  {
   "cell_type": "markdown",
   "id": "52e67272",
   "metadata": {},
   "source": [
    "### Simple Calculator Operation"
   ]
  },
  {
   "cell_type": "code",
   "execution_count": 2,
   "id": "3eb6bff2",
   "metadata": {},
   "outputs": [
    {
     "name": "stdout",
     "output_type": "stream",
     "text": [
      "Addition: 42\n",
      "Subtraction: 14\n",
      "Multiplication: 392\n",
      "Division: 2.0\n"
     ]
    }
   ],
   "source": [
    "\n",
    "# Addition\n",
    "sum_result = x + y\n",
    "print(\"Addition:\", sum_result)\n",
    "\n",
    "# Subtraction\n",
    "sub_result = x - y\n",
    "print(\"Subtraction:\", sub_result)\n",
    "\n",
    "# Multiplication\n",
    "mul_result = x * y\n",
    "print(\"Multiplication:\", mul_result)\n",
    "\n",
    "# Division\n",
    "div_result = x / y\n",
    "print(\"Division:\", div_result)\n"
   ]
  },
  {
   "cell_type": "markdown",
   "id": "f890b756",
   "metadata": {},
   "source": [
    "### List"
   ]
  },
  {
   "cell_type": "code",
   "execution_count": 1,
   "id": "3f492e95",
   "metadata": {},
   "outputs": [
    {
     "name": "stdout",
     "output_type": "stream",
     "text": [
      "First fruit: apple\n",
      "Fruits after appending: ['apple', 'banana', 'orange', 'date', 'blueberry', 'pineapple', 'elderberry']\n",
      "Sliced fruits: ['banana', 'orange']\n"
     ]
    }
   ],
   "source": [
    "# Creating a list\n",
    "fruits = [\"apple\", \"banana\", \"orange\", \"date\", \"blueberry\", \"pineapple\"]\n",
    "\n",
    "# Indexing\n",
    "first_fruit = fruits[0]\n",
    "print(\"First fruit:\", first_fruit)\n",
    "\n",
    "# Appending\n",
    "fruits.append(\"elderberry\")\n",
    "print(\"Fruits after appending:\", fruits)\n",
    "\n",
    "# Slicing\n",
    "sliced_fruits = fruits[1:3]\n",
    "print(\"Sliced fruits:\", sliced_fruits)\n",
    "\n"
   ]
  },
  {
   "cell_type": "markdown",
   "id": "3aa4a4c5",
   "metadata": {},
   "source": [
    "### Dictionary"
   ]
  },
  {
   "cell_type": "code",
   "execution_count": 2,
   "id": "0e4c9927",
   "metadata": {},
   "outputs": [
    {
     "name": "stdout",
     "output_type": "stream",
     "text": [
      "Manasvi\n",
      "{'name': 'Manasvi', 'age': 22, 'city': 'Delhi', 'occupation': 'Computer Science Engineer'}\n",
      "{'name': 'Manasvi', 'age': 31, 'city': 'Delhi', 'occupation': 'Computer Science Engineer'}\n",
      "{'name': 'Manasvi', 'age': 31, 'occupation': 'Computer Science Engineer'}\n",
      "dict_keys(['name', 'age', 'occupation'])\n",
      "dict_values(['Manasvi', 31, 'Computer Science Engineer'])\n",
      "dict_items([('name', 'Manasvi'), ('age', 31), ('occupation', 'Computer Science Engineer')])\n",
      "True\n",
      "31\n",
      "{}\n"
     ]
    }
   ],
   "source": [
    "# Creating a dictionary\n",
    "my_dict = {\n",
    "    \"name\": \"Manasvi\",\n",
    "    \"age\": 22,\n",
    "    \"city\": \"Delhi\"\n",
    "}\n",
    "\n",
    "# Accessing Values\n",
    "print(my_dict[\"name\"]) \n",
    "\n",
    "# Adding a New Key-Value Pair\n",
    "my_dict[\"occupation\"] = \"Computer Science Engineer\"\n",
    "print(my_dict) \n",
    "# Updating a Value\n",
    "my_dict[\"age\"] = 31\n",
    "print(my_dict) \n",
    "\n",
    "# Removing a Key-Value Pair\n",
    "del my_dict[\"city\"]\n",
    "print(my_dict)  \n",
    "\n",
    "# Getting All Keys\n",
    "keys = my_dict.keys()\n",
    "print(keys) \n",
    "\n",
    "# Getting All Values\n",
    "values = my_dict.values()\n",
    "print(values) \n",
    "\n",
    "# Getting All Items\n",
    "items = my_dict.items()\n",
    "print(items) \n",
    "\n",
    "# Checking if a Key Exists\n",
    "exists = \"name\" in my_dict\n",
    "print(exists)  \n",
    "\n",
    "# Using get Method\n",
    "age = my_dict.get(\"age\")\n",
    "print(age) \n",
    "\n",
    "# Clearing the Dictionary\n",
    "my_dict.clear()\n",
    "print(my_dict)  \n"
   ]
  },
  {
   "cell_type": "markdown",
   "id": "ccfaa3e1",
   "metadata": {},
   "source": [
    "### Numpy"
   ]
  },
  {
   "cell_type": "code",
   "execution_count": 6,
   "id": "cbd219dc",
   "metadata": {},
   "outputs": [
    {
     "name": "stdout",
     "output_type": "stream",
     "text": [
      "NumPy Array: [1 2 3 4 5]\n",
      "Arange Array: [0 2 4 6 8]\n",
      "NumPy Result (Array + 2): [3 4 5 6 7]\n",
      "Python List Result (List + 2): [3, 4, 5, 6, 7]\n",
      "NumPy Multiplication Result: [ 2  4  6  8 10]\n",
      "Python List Multiplication Result: [2, 4, 6, 8, 10]\n",
      "NumPy Sum: 1783293664 Time taken: 0.0\n",
      "Python List Sum: 499999500000 Time taken: 0.027646303176879883\n"
     ]
    }
   ],
   "source": [
    "import numpy as np\n",
    "\n",
    "# Creating a NumPy array\n",
    "np_array = np.array([1, 2, 3, 4, 5])\n",
    "print(\"NumPy Array:\", np_array)\n",
    "\n",
    "# Creating an alias for NumPy\n",
    "np_alias = np  # Now you can use np_alias as a shortcut for np\n",
    "\n",
    "# Using arange to create an array\n",
    "arange_array = np_alias.arange(0, 10, 2)  # Start, stop, step\n",
    "print(\"Arange Array:\", arange_array)\n",
    "\n",
    "# Comparing numerical operations with Python lists\n",
    "python_list = [1, 2, 3, 4, 5]\n",
    "\n",
    "# Adding 2(two) to each element using NumPy\n",
    "np_result = np_array + 2\n",
    "print(\"NumPy Result (Array + 2):\", np_result)\n",
    "\n",
    "# Adding 2 to each element using a Python list (list comprehension)\n",
    "list_result = [x + 2 for x in python_list]\n",
    "print(\"Python List Result (List + 2):\", list_result)\n",
    "\n",
    "# Multiplying each element by 2 using NumPy\n",
    "np_multiplication = np_array * 2\n",
    "print(\"NumPy Multiplication Result:\", np_multiplication)\n",
    "\n",
    "# Multiplying each element by 2 using a Python list (list comprehension)\n",
    "list_multiplication = [x * 2 for x in python_list]\n",
    "print(\"Python List Multiplication Result:\", list_multiplication)\n",
    "\n",
    "# Comparing execution time for large arrays/lists\n",
    "import time\n",
    "\n",
    "# Create a large array and list\n",
    "large_np_array = np_alias.arange(1_000_000)\n",
    "large_python_list = list(range(1_000_000))\n",
    "\n",
    "# Timing NumPy operation\n",
    "start_time = time.time()\n",
    "np_sum = np_alias.sum(large_np_array)\n",
    "np_time = time.time() - start_time\n",
    "\n",
    "# Timing Python list operation\n",
    "start_time = time.time()\n",
    "list_sum = sum(large_python_list)\n",
    "list_time = time.time() - start_time\n",
    "\n",
    "print(\"NumPy Sum:\", np_sum, \"Time taken:\", np_time)\n",
    "print(\"Python List Sum:\", list_sum, \"Time taken:\", list_time)\n"
   ]
  },
  {
   "cell_type": "markdown",
   "id": "c8b98536",
   "metadata": {},
   "source": [
    "## Assignment"
   ]
  },
  {
   "cell_type": "markdown",
   "id": "b61b3883",
   "metadata": {},
   "source": [
    "### Question 1"
   ]
  },
  {
   "cell_type": "code",
   "execution_count": 3,
   "id": "4217657f",
   "metadata": {},
   "outputs": [
    {
     "name": "stdout",
     "output_type": "stream",
     "text": [
      "Maths - Highest: 99, Lowest: 50, Average: 69.40\n",
      "Science - Highest: 93, Lowest: 51, Average: 70.30\n",
      "English - Highest: 89, Lowest: 57, Average: 72.10\n",
      "IT - Highest: 97, Lowest: 52, Average: 75.90\n",
      "\n",
      "Overall - Highest: 99, Lowest: 50, Average: 71.92\n"
     ]
    }
   ],
   "source": [
    "import random\n",
    "\n",
    "# Random marks for 10 students in four subjects\n",
    "marks = {\n",
    "    'Maths': [random.randint(50, 100) for _ in range(10)],\n",
    "    'Science': [random.randint(50, 100) for _ in range(10)],\n",
    "    'English': [random.randint(50, 100) for _ in range(10)],\n",
    "    'IT': [random.randint(50, 100) for _ in range(10)]\n",
    "}\n",
    "\n",
    "# Print highest, lowest, and average for each subject\n",
    "for subject, scores in marks.items():\n",
    "    print(f\"{subject} - Highest: {max(scores)}, Lowest: {min(scores)}, Average: {sum(scores) / len(scores):.2f}\")\n",
    "\n",
    "# Overall calculations\n",
    "all_scores = [score for scores in marks.values() for score in scores]\n",
    "print(f\"\\nOverall - Highest: {max(all_scores)}, Lowest: {min(all_scores)}, Average: {sum(all_scores) / len(all_scores):.2f}\")\n"
   ]
  },
  {
   "cell_type": "markdown",
   "id": "f1aa60e8",
   "metadata": {},
   "source": [
    "### Question 2"
   ]
  },
  {
   "cell_type": "code",
   "execution_count": 4,
   "id": "77f98434",
   "metadata": {},
   "outputs": [
    {
     "name": "stdout",
     "output_type": "stream",
     "text": [
      "Gross Salary: 549051.75\n"
     ]
    }
   ],
   "source": [
    "def calculate_gross_salary(basic_salary):\n",
    "    if basic_salary <= 10000:\n",
    "        hra, da = 0.2, 0.8\n",
    "    elif basic_salary <= 20000:\n",
    "        hra, da = 0.25, 0.9\n",
    "    else:\n",
    "        hra, da = 0.3, 0.95\n",
    "    return basic_salary + (basic_salary * hra) + (basic_salary * da)\n",
    "\n",
    "# Example\n",
    "basic_salary = int(input(\"Enter basic salary: \"))\n",
    "print(\"Gross Salary:\", calculate_gross_salary(basic_salary))\n"
   ]
  },
  {
   "cell_type": "markdown",
   "id": "4faa797f",
   "metadata": {},
   "source": [
    "### Question 3"
   ]
  },
  {
   "cell_type": "code",
   "execution_count": 6,
   "id": "6f3153e4",
   "metadata": {},
   "outputs": [
    {
     "name": "stdout",
     "output_type": "stream",
     "text": [
      "Invalid password. Length should be between 6 and 16 characters.\n"
     ]
    }
   ],
   "source": [
    "def validate_password(password):\n",
    "    # Check for length between 6 and 16\n",
    "    if not (6 <= len(password) <= 16):\n",
    "        return \"Invalid password. Length should be between 6 and 16 characters.\"\n",
    "    \n",
    "    # Check for at least one lowercase letter\n",
    "    if not any(char.islower() for char in password):\n",
    "        return \"Invalid password. Must include at least one lowercase letter.\"\n",
    "    \n",
    "    # Check for at least one uppercase letter\n",
    "    if not any(char.isupper() for char in password):\n",
    "        return \"Invalid password. Must include at least one uppercase letter.\"\n",
    "    \n",
    "    # Check for at least one digit\n",
    "    if not any(char.isdigit() for char in password):\n",
    "        return \"Invalid password. Must include at least one digit.\"\n",
    "    \n",
    "    # Check for at least one special character from [$#@]\n",
    "    if not any(char in \"$#@\" for char in password):\n",
    "        return \"Invalid password. Must include at least one special character from [$#@].\"\n",
    "    \n",
    "    return \"Password is valid.\"\n",
    "\n",
    "# Example usage\n",
    "password = input(\"Enter password: \")\n",
    "print(validate_password(password))\n"
   ]
  },
  {
   "cell_type": "markdown",
   "id": "5369ea21",
   "metadata": {},
   "source": [
    "### Question 4"
   ]
  },
  {
   "cell_type": "code",
   "execution_count": 7,
   "id": "d3b05998",
   "metadata": {},
   "outputs": [
    {
     "name": "stdout",
     "output_type": "stream",
     "text": [
      "After adding: [10, 20, 30, 40, 50, 60, 70, 80, 200, 300]\n",
      "After removing: [20, 40, 50, 60, 70, 80, 200, 300]\n",
      "Ascending: [20, 40, 50, 60, 70, 80, 200, 300]\n",
      "Descending: [300, 200, 80, 70, 60, 50, 40, 20]\n"
     ]
    }
   ],
   "source": [
    "L = [10, 20, 30, 40, 50, 60, 70, 80]\n",
    "\n",
    "L.extend([200, 300])  # Add items\n",
    "print(\"After adding:\", L)\n",
    "\n",
    "L.remove(10)\n",
    "L.remove(30)\n",
    "print(\"After removing:\", L)\n",
    "\n",
    "L.sort()\n",
    "print(\"Ascending:\", L)\n",
    "\n",
    "L.sort(reverse=True)\n",
    "print(\"Descending:\", L)\n"
   ]
  },
  {
   "cell_type": "markdown",
   "id": "279a407c",
   "metadata": {},
   "source": [
    "### Question 5"
   ]
  },
  {
   "cell_type": "code",
   "execution_count": 8,
   "id": "005424dc",
   "metadata": {},
   "outputs": [
    {
     "name": "stdout",
     "output_type": "stream",
     "text": [
      "After adding key=6: {1: 'One', 2: 'Two', 3: 'Three', 4: 'Four', 5: 'Five', 6: 'Six'}\n",
      "After removing key=2: {1: 'One', 3: 'Three', 4: 'Four', 5: 'Five', 6: 'Six'}\n",
      "Key 6 present? True\n",
      "Element count: 5\n",
      "All values: OneThreeFourFiveSix\n"
     ]
    }
   ],
   "source": [
    "D = {1: \"One\", 2: \"Two\", 3: \"Three\", 4: \"Four\", 5: \"Five\"}\n",
    "\n",
    "D[6] = \"Six\"  # Add key=6\n",
    "print(\"After adding key=6:\", D)\n",
    "\n",
    "D.pop(2)  # Remove key=2\n",
    "print(\"After removing key=2:\", D)\n",
    "\n",
    "print(\"Key 6 present?\", 6 in D)\n",
    "\n",
    "print(\"Element count:\", len(D))\n",
    "\n",
    "print(\"All values:\", ''.join(D.values()))\n"
   ]
  },
  {
   "cell_type": "markdown",
   "id": "6bc8fedc",
   "metadata": {},
   "source": [
    "### Question 6"
   ]
  },
  {
   "cell_type": "code",
   "execution_count": 9,
   "id": "30e6a680",
   "metadata": {},
   "outputs": [
    {
     "name": "stdout",
     "output_type": "stream",
     "text": [
      "Odd: [205, 213, 221, 229, 237, 245, 253, 261, 269, 277, 285, 293, 407, 415, 423, 431, 439, 447, 455, 463, 471, 479, 487, 495, 601, 609, 617, 625, 633, 641, 649, 657, 665, 673, 681, 689, 697, 803, 811, 819, 827, 835, 843, 851, 859, 867, 875, 883, 891]\n",
      "Even: [100, 108, 116, 124, 132, 140, 148, 156, 164, 172, 180, 188, 196, 302, 310, 318, 326, 334, 342, 350, 358, 366, 374, 382, 390, 398, 504, 512, 520, 528, 536, 544, 552, 560, 568, 576, 584, 592, 706, 714, 722, 730, 738, 746, 754, 762, 770, 778, 786, 794, 900]\n",
      "Prime: [229, 269, 277, 293, 431, 439, 463, 479, 487, 601, 617, 641, 673, 811, 827, 859, 883]\n"
     ]
    }
   ],
   "source": [
    "# List of 100 random numbers between 100-900\n",
    "numbers = [int(100 + (900 - 100) * i / 99) for i in range(100)]\n",
    "\n",
    "# Odd, even, and prime numbers\n",
    "odd_numbers = [num for num in numbers if num % 2 != 0]\n",
    "even_numbers = [num for num in numbers if num % 2 == 0]\n",
    "prime_numbers = [num for num in numbers if num > 1 and all(num % i != 0 for i in range(2, int(num ** 0.5) + 1))]\n",
    "\n",
    "print(\"Odd:\", odd_numbers)\n",
    "print(\"Even:\", even_numbers)\n",
    "print(\"Prime:\", prime_numbers)\n"
   ]
  },
  {
   "cell_type": "markdown",
   "id": "ce5e7315",
   "metadata": {},
   "source": [
    "### Question 7"
   ]
  },
  {
   "cell_type": "markdown",
   "id": "d049c9cc",
   "metadata": {},
   "source": [
    "finance.py"
   ]
  },
  {
   "cell_type": "code",
   "execution_count": 10,
   "id": "50885ec6",
   "metadata": {},
   "outputs": [
    {
     "name": "stdout",
     "output_type": "stream",
     "text": [
      "Compound Interest: 205.00000000000006\n"
     ]
    }
   ],
   "source": [
    "def compound_interest(principal, rate, time):\n",
    "    return principal * ((1 + rate / 100) ** time - 1)\n",
    "\n",
    "# Example\n",
    "p, r, t = 2000, 5, 2\n",
    "print(\"Compound Interest:\", compound_interest(p, r, t))\n"
   ]
  },
  {
   "cell_type": "code",
   "execution_count": null,
   "id": "fdb3526e",
   "metadata": {},
   "outputs": [],
   "source": [
    "# main.py\n",
    "from finance import compound_interest\n",
    "\n",
    "p, r, t = 2000, 5, 2\n",
    "print(\"Compound Interest:\", compound_interest(p, r, t))\n"
   ]
  },
  {
   "cell_type": "markdown",
   "id": "0de0ae3f",
   "metadata": {},
   "source": [
    "### Question 8"
   ]
  },
  {
   "cell_type": "code",
   "execution_count": 11,
   "id": "e0a66723",
   "metadata": {},
   "outputs": [
    {
     "name": "stdout",
     "output_type": "stream",
     "text": [
      "Pasta Palace\n",
      "Italian\n",
      "Pasta Palace serves Italian cuisine.\n",
      "Pasta Palace is now open!\n",
      "User: Manasvi Bakshi, Age: 25, Email: manasvi.bakshi@example.com\n",
      "Hello, Manasvi Bakshi!\n",
      "User: Milind sinha, Age: 30, Email: milind.sinha@example.com\n",
      "Hello, Milind sinha!\n"
     ]
    }
   ],
   "source": [
    "# Part a\n",
    "class Restaurant:\n",
    "    def __init__(self, name, cuisine):\n",
    "        self.name = name\n",
    "        self.cuisine = cuisine\n",
    "\n",
    "    def describe_restaurant(self):\n",
    "        print(f\"{self.name} serves {self.cuisine} cuisine.\")\n",
    "\n",
    "    def open_restaurant(self):\n",
    "        print(f\"{self.name} is now open!\")\n",
    "\n",
    "# Example\n",
    "restaurant = Restaurant(\"Pasta Palace\", \"Italian\")\n",
    "print(restaurant.name)\n",
    "print(restaurant.cuisine)\n",
    "restaurant.describe_restaurant()\n",
    "restaurant.open_restaurant()\n",
    "\n",
    "# Part b\n",
    "class User:\n",
    "    def __init__(self, first_name, last_name, age, email):\n",
    "        self.first_name = first_name\n",
    "        self.last_name = last_name\n",
    "        self.age = age\n",
    "        self.email = email\n",
    "\n",
    "    def describe_user(self):\n",
    "        print(f\"User: {self.first_name} {self.last_name}, Age: {self.age}, Email: {self.email}\")\n",
    "\n",
    "    def greet_user(self):\n",
    "        print(f\"Hello, {self.first_name} {self.last_name}!\")\n",
    "\n",
    "# Example\n",
    "user1 = User(\"Manasvi\", \"Bakshi\", 25, \"manasvi.bakshi@example.com\")\n",
    "user2 = User(\"Milind\", \"sinha\", 30, \"milind.sinha@example.com\")\n",
    "\n",
    "user1.describe_user()\n",
    "user1.greet_user()\n",
    "user2.describe_user()\n",
    "user2.greet_user()\n"
   ]
  }
 ],
 "metadata": {
  "kernelspec": {
   "display_name": "Python 3",
   "language": "python",
   "name": "python3"
  },
  "language_info": {
   "codemirror_mode": {
    "name": "ipython",
    "version": 3
   },
   "file_extension": ".py",
   "mimetype": "text/x-python",
   "name": "python",
   "nbconvert_exporter": "python",
   "pygments_lexer": "ipython3",
   "version": "3.13.0"
  }
 },
 "nbformat": 4,
 "nbformat_minor": 5
}
