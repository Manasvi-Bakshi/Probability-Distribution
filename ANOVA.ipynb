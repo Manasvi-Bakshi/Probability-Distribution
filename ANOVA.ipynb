{
  "cells": [
    {
      "cell_type": "markdown",
      "id": "14ff43f6",
      "metadata": {
        "id": "14ff43f6"
      },
      "source": [
        "# Lab Experiment 6"
      ]
    },
    {
      "cell_type": "code",
      "execution_count": 1,
      "id": "a1c3ec59",
      "metadata": {
        "id": "a1c3ec59",
        "outputId": "dded2d24-253d-44af-ef02-27eb9c37214b",
        "colab": {
          "base_uri": "https://localhost:8080/"
        }
      },
      "outputs": [
        {
          "output_type": "stream",
          "name": "stdout",
          "text": [
            "Requirement already satisfied: statsmodels in /usr/local/lib/python3.10/dist-packages (0.14.4)\n",
            "Requirement already satisfied: numpy<3,>=1.22.3 in /usr/local/lib/python3.10/dist-packages (from statsmodels) (1.26.4)\n",
            "Requirement already satisfied: scipy!=1.9.2,>=1.8 in /usr/local/lib/python3.10/dist-packages (from statsmodels) (1.13.1)\n",
            "Requirement already satisfied: pandas!=2.1.0,>=1.4 in /usr/local/lib/python3.10/dist-packages (from statsmodels) (2.2.2)\n",
            "Requirement already satisfied: patsy>=0.5.6 in /usr/local/lib/python3.10/dist-packages (from statsmodels) (0.5.6)\n",
            "Requirement already satisfied: packaging>=21.3 in /usr/local/lib/python3.10/dist-packages (from statsmodels) (24.1)\n",
            "Requirement already satisfied: python-dateutil>=2.8.2 in /usr/local/lib/python3.10/dist-packages (from pandas!=2.1.0,>=1.4->statsmodels) (2.8.2)\n",
            "Requirement already satisfied: pytz>=2020.1 in /usr/local/lib/python3.10/dist-packages (from pandas!=2.1.0,>=1.4->statsmodels) (2024.2)\n",
            "Requirement already satisfied: tzdata>=2022.7 in /usr/local/lib/python3.10/dist-packages (from pandas!=2.1.0,>=1.4->statsmodels) (2024.2)\n",
            "Requirement already satisfied: six in /usr/local/lib/python3.10/dist-packages (from patsy>=0.5.6->statsmodels) (1.16.0)\n"
          ]
        }
      ],
      "source": [
        "%pip install statsmodels"
      ]
    },
    {
      "cell_type": "code",
      "execution_count": 2,
      "id": "624d540f",
      "metadata": {
        "id": "624d540f"
      },
      "outputs": [],
      "source": [
        "import pandas as pd\n",
        "import numpy as np\n",
        "from scipy import stats\n",
        "import statsmodels.api as sm\n",
        "from statsmodels.formula.api import ols"
      ]
    },
    {
      "cell_type": "code",
      "execution_count": 3,
      "id": "37809fc6",
      "metadata": {
        "id": "37809fc6",
        "outputId": "810b5f97-f961-4baf-cc03-2a4cdd25c3ec",
        "colab": {
          "base_uri": "https://localhost:8080/"
        }
      },
      "outputs": [
        {
          "output_type": "stream",
          "name": "stdout",
          "text": [
            "Sunlight Exposure\n",
            "  Watering Frequency  None  Low  Medium  High\n",
            "0              Daily   4.8  5.0     6.4   6.3\n",
            "1              Daily   4.4  5.2     6.2   6.4\n",
            "2              Daily   3.2  5.6     4.7   5.6\n",
            "3              Daily   3.9  4.3     5.5   4.8\n",
            "4              Daily   4.4  4.8     5.8   5.8\n",
            "5             Weekly   4.4  4.9     5.8   6.0\n",
            "6             Weekly   4.2  5.3     6.2   4.9\n",
            "7             Weekly   3.8  5.7     6.3   4.6\n",
            "8             Weekly   3.7  5.4     6.5   5.6\n",
            "9             Weekly   3.9  4.8     5.5   5.5\n"
          ]
        }
      ],
      "source": [
        "# Table Data\n",
        "data = {\n",
        "    \"Watering Frequency\": [\"Daily\", \"Daily\", \"Daily\", \"Daily\", \"Daily\", \"Weekly\", \"Weekly\", \"Weekly\", \"Weekly\", \"Weekly\"],\n",
        "    \"None\": [4.8, 4.4, 3.2, 3.9, 4.4, 4.4, 4.2, 3.8, 3.7, 3.9],\n",
        "    \"Low\": [5, 5.2, 5.6, 4.3, 4.8, 4.9, 5.3, 5.7, 5.4, 4.8],\n",
        "    \"Medium\": [6.4, 6.2, 4.7, 5.5, 5.8, 5.8, 6.2, 6.3, 6.5, 5.5],\n",
        "    \"High\": [6.3, 6.4, 5.6, 4.8, 5.8, 6, 4.9, 4.6, 5.6, 5.5]\n",
        "}\n",
        "\n",
        "df = pd.DataFrame(data)\n",
        "\n",
        "# Display the DataFrame with the heading\n",
        "print(\"Sunlight Exposure\")\n",
        "print(df)\n"
      ]
    },
    {
      "cell_type": "code",
      "execution_count": 10,
      "id": "d038bcf0",
      "metadata": {
        "id": "d038bcf0",
        "outputId": "d958b375-1812-4263-cc4d-bb7d2f32d3e5",
        "colab": {
          "base_uri": "https://localhost:8080/"
        }
      },
      "outputs": [
        {
          "output_type": "stream",
          "name": "stdout",
          "text": [
            "ANOVA Results\n",
            "                                            Sum of Squares  Degrees of Freedom  F-Statistic    p-value\n",
            "C(Watering_Frequency)                              0.00025                 1.0     0.000921  9.760e-01\n",
            "C(Sunlight_Exposure)                              18.76475                 3.0    23.048979  3.898e-08\n",
            "C(Watering_Frequency):C(Sunlight_Exposure)         1.01075                 3.0     1.241517  3.109e-01\n",
            "Residual                                           8.68400                32.0          NaN        NaN\n",
            " a) Does sunlight exposure affect plant growth?\n",
            "   p-value = 3.898e-08 (Significant)\n",
            " b) Does watering frequency affect plant growth?\n",
            "   p-value = 9.760e-01 (Not Significant)\n",
            " c) Is there an interaction effect between sunlight exposure and watering frequency?\n",
            "   p-value = 3.109e-01 (Not Significant)\n"
          ]
        }
      ],
      "source": [
        "\n",
        "# Table Data\n",
        "data = {\n",
        "    \"Watering_Frequency\": [\"Daily\", \"Daily\", \"Daily\", \"Daily\", \"Daily\", \"Weekly\", \"Weekly\", \"Weekly\", \"Weekly\", \"Weekly\"]*4,\n",
        "    \"Sunlight_Exposure\": [\"None\"]*10 + [\"Low\"]*10 + [\"Medium\"]*10 + [\"High\"]*10,\n",
        "    \"Plant_Height\": [4.8, 4.4, 3.2, 3.9, 4.4, 4.4, 4.2, 3.8, 3.7, 3.9,  # None\n",
        "                     5, 5.2, 5.6, 4.3, 4.8, 4.9, 5.3, 5.7, 5.4, 4.8,    # Low\n",
        "                     6.4, 6.2, 4.7, 5.5, 5.8, 5.8, 6.2, 6.3, 6.5, 5.5,  # Medium\n",
        "                     6.3, 6.4, 5.6, 4.8, 5.8, 6, 4.9, 4.6, 5.6, 5.5]    # High\n",
        "}\n",
        "\n",
        "df = pd.DataFrame(data)\n",
        "\n",
        "# Perform two-way ANOVA\n",
        "model = ols('Plant_Height ~ C(Watering_Frequency) + C(Sunlight_Exposure) + C(Watering_Frequency):C(Sunlight_Exposure)', data=df).fit()\n",
        "anova_table = sm.stats.anova_lm(model, typ=2)\n",
        "\n",
        "# Format the ANOVA table for better presentation\n",
        "anova_table = anova_table.rename(columns={'sum_sq': 'Sum of Squares', 'df': 'Degrees of Freedom', 'F': 'F-Statistic', 'PR(>F)': 'p-value'})\n",
        "anova_table['p-value'] = anova_table['p-value'].apply(lambda p: f'{p:.3e}' if pd.notnull(p) else 'NaN')  # Scientific notation for p-values\n",
        "\n",
        "# Display the formatted ANOVA table\n",
        "print(\"ANOVA Results\")\n",
        "print(anova_table.to_string())\n",
        "\n",
        "# Print the results in the desired format\n",
        "print(\" a) Does sunlight exposure affect plant growth?\")\n",
        "print(f\"   p-value = {formatted_results['Sunlight_Exposure']['p-value']} (Significant)\" if float(formatted_results['Sunlight_Exposure']['p-value']) < 0.05 else f\"   p-value = {formatted_results['Sunlight_Exposure']['p-value']} (Not Significant)\")\n",
        "\n",
        "print(\" b) Does watering frequency affect plant growth?\")\n",
        "print(f\"   p-value = {formatted_results['Watering_Frequency']['p-value']} (Significant)\" if float(formatted_results['Watering_Frequency']['p-value']) < 0.05 else f\"   p-value = {formatted_results['Watering_Frequency']['p-value']} (Not Significant)\")\n",
        "\n",
        "print(\" c) Is there an interaction effect between sunlight exposure and watering frequency?\")\n",
        "print(f\"   p-value = {formatted_results['Watering_Frequency:Sunlight_Exposure']['p-value']} (Significant)\" if float(formatted_results['Watering_Frequency:Sunlight_Exposure']['p-value']) < 0.05 else f\"   p-value = {formatted_results['Watering_Frequency:Sunlight_Exposure']['p-value']} (Not Significant)\")\n"
      ]
    }
  ],
  "metadata": {
    "kernelspec": {
      "display_name": "Python 3",
      "language": "python",
      "name": "python3"
    },
    "language_info": {
      "codemirror_mode": {
        "name": "ipython",
        "version": 3
      },
      "file_extension": ".py",
      "mimetype": "text/x-python",
      "name": "python",
      "nbconvert_exporter": "python",
      "pygments_lexer": "ipython3",
      "version": "3.12.7"
    },
    "colab": {
      "provenance": []
    }
  },
  "nbformat": 4,
  "nbformat_minor": 5
}